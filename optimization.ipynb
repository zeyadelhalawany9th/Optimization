{
  "nbformat": 4,
  "nbformat_minor": 0,
  "metadata": {
    "colab": {
      "name": "optimization.ipynb",
      "provenance": [],
      "collapsed_sections": []
    },
    "kernelspec": {
      "name": "python3",
      "display_name": "Python 3"
    }
  },
  "cells": [
    {
      "cell_type": "markdown",
      "metadata": {
        "id": "BpnkXOQTne3f"
      },
      "source": [
        "**PACKAGES AND LIBRARIES USED:**"
      ]
    },
    {
      "cell_type": "code",
      "metadata": {
        "id": "AJK1s-nkI0pk"
      },
      "source": [
        "import numpy as np\r\n",
        "import time\r\n",
        "import psutil\r\n",
        "import os\r\n",
        "import tensorflow as tf\r\n",
        "from keras.models import Sequential\r\n",
        "from keras.layers import Dense\r\n",
        "from sklearn import preprocessing\r\n",
        "from keras.layers import Input\r\n",
        "import matplotlib.pyplot as plt"
      ],
      "execution_count": 1111,
      "outputs": []
    },
    {
      "cell_type": "markdown",
      "metadata": {
        "id": "uNA_kmkPJYrS"
      },
      "source": [
        "**CODE USED FOR DATA COLLECTION:**  \r\n",
        "**THIS CODE WAS RNUED ON OUR COMPUTERS NOT IN COLAB AND THE DATASET FILE \"dataset.txt\" WAS THE RESULT OF THIS CODE**"
      ]
    },
    {
      "cell_type": "markdown",
      "metadata": {
        "id": "L6r0_WzAKNgj"
      },
      "source": [
        "\r\n",
        "\r\n",
        "1. Small sizes of array varry from 1 to 1000000 (added in order that the model is able to generalize) we have 2000 different sizes ranging among this values .\r\n",
        "2. Big sizes of array varry from 1000000 to 10000000 and we have 8000 different sizes .\r\n",
        "3. Dataset size in 10000 samples , we have 1 features : array size .\r\n",
        "4. We have 2 target features (outputs) : run time and memory usage .\r\n"
      ]
    },
    {
      "cell_type": "code",
      "metadata": {
        "id": "npTFGV_XnLV4"
      },
      "source": [
        "small_sizes = np.linspace(1,1000000,2000,dtype=int)\r\n",
        "large_sizes = np.linspace(1000000,10000000,8000,dtype=int)\r\n",
        "\r\n",
        "all_sizes = np.append(small_sizes , large_sizes)\r\n",
        "np.random.shuffle(all_sizes)\r\n",
        "\r\n",
        "\r\n",
        "#col 0 for size     col 1 for runtime     col2 for memory usage\r\n",
        "dataset = np.zeros(shape=(all_sizes.size,3))\r\n",
        "\r\n",
        "def get_memory_usage():\r\n",
        "    process_id = os.getpid()\r\n",
        "    py = psutil.Process(process_id)\r\n",
        "    memory = py.memory_info()[0] / float(2 ** 20)  # memory use in MB\r\n",
        "    return memory\r\n",
        "\r\n",
        "for i in range(0,all_sizes.size):\r\n",
        "    my_array = np.random.rand(all_sizes[i])\r\n",
        "    c = np.zeros(all_sizes[i])\r\n",
        "    print(i)\r\n",
        "    dataset[i][0] = all_sizes[i]\r\n",
        "    start = time.time()\r\n",
        "    memory_use_start = get_memory_usage()\r\n",
        "    c =  np.log(my_array) + np.exp(my_array) + np.power(my_array,20) + np.multiply(my_array,my_array,c)\r\n",
        "    memory_use_stop  = get_memory_usage()\r\n",
        "    stop = time.time()\r\n",
        "    run_time = stop - start\r\n",
        "    memory_use = memory_use_stop - memory_use_start\r\n",
        "    dataset[i][1] = run_time\r\n",
        "    dataset[i][2] = memory_use\r\n",
        "\r\n",
        "\r\n",
        "np.savetxt('test.txt', dataset, delimiter=',')"
      ],
      "execution_count": null,
      "outputs": []
    },
    {
      "cell_type": "markdown",
      "metadata": {
        "id": "FwDC-edKnlpy"
      },
      "source": [
        "**LOADING DATASET:**\r\n",
        "\r\n",
        "\r\n",
        "1.   Train Set size: 7000 samples\r\n",
        "2.   Cross validation Set size: 1000 samples\r\n",
        "3.   Testin Set: 2000 samples\r\n",
        "\r\n"
      ]
    },
    {
      "cell_type": "code",
      "metadata": {
        "id": "l4tQbH9hLFam"
      },
      "source": [
        "dataset = np.loadtxt(\"/content/dataset.txt\",delimiter=\",\")\r\n",
        "training_set = dataset[0:7000]\r\n",
        "cross_validation_set = dataset[7000:8000]\r\n",
        "testing_set = dataset[8000:]"
      ],
      "execution_count": null,
      "outputs": []
    },
    {
      "cell_type": "markdown",
      "metadata": {
        "id": "_ibBiYtMofFK"
      },
      "source": [
        "**PLOTING OF FEATURES**"
      ]
    },
    {
      "cell_type": "code",
      "metadata": {
        "colab": {
          "base_uri": "https://localhost:8080/",
          "height": 312
        },
        "id": "55mrnubQM23d",
        "outputId": "241df2b7-a026-40e1-d31d-7d87a6fe3a37"
      },
      "source": [
        "plt.plot(dataset[:,0],dataset[:,1], 'ro')\r\n",
        "plt.xlabel('array size')\r\n",
        "plt.ylabel('run time')\r\n",
        "plt.title(\"Run time target feature\")"
      ],
      "execution_count": 1129,
      "outputs": [
        {
          "output_type": "execute_result",
          "data": {
            "text/plain": [
              "Text(0.5, 1.0, 'Run time feature')"
            ]
          },
          "metadata": {
            "tags": []
          },
          "execution_count": 1129
        },
        {
          "output_type": "display_data",
          "data": {
            "image/png": "[encoded data removed]",
            "text/plain": [
              "<Figure size 432x288 with 1 Axes>"
            ]
          },
          "metadata": {
            "tags": [],
            "needs_background": "light"
          }
        }
      ]
    },
    {
      "cell_type": "code",
      "metadata": {
        "colab": {
          "base_uri": "https://localhost:8080/",
          "height": 312
        },
        "id": "J2S-fSYrNZ0t",
        "outputId": "be0add35-ac7c-47c3-d836-c40a47bb3163"
      },
      "source": [
        "plt.plot(dataset[:,0],dataset[:,2], 'ro')\r\n",
        "plt.xlabel('array size')\r\n",
        "plt.ylabel('memory usage')\r\n",
        "plt.title(\"Memory usage target feature\")"
      ],
      "execution_count": 1130,
      "outputs": [
        {
          "output_type": "execute_result",
          "data": {
            "text/plain": [
              "Text(0.5, 1.0, 'Memory usage target feature')"
            ]
          },
          "metadata": {
            "tags": []
          },
          "execution_count": 1130
        },
        {
          "output_type": "display_data",
          "data": {
            "image/png": "[encoded data removed]",
            "text/plain": [
              "<Figure size 432x288 with 1 Axes>"
            ]
          },
          "metadata": {
            "tags": [],
            "needs_background": "light"
          }
        }
      ]
    },
    {
      "cell_type": "markdown",
      "metadata": {
        "id": "MpLA8kJAotvF"
      },
      "source": [
        "**As we can see in both figures data can be easly represented using a line, so we already think that we could have good prediction results**"
      ]
    },
    {
      "cell_type": "code",
      "metadata": {
        "id": "gwhGzRl5PHpr"
      },
      "source": [
        "training_set_X = training_set[:,0]\r\n",
        "training_set_X = training_set_X.astype(int)\r\n",
        "training_set_Y = training_set[:,1:]\r\n",
        "\r\n",
        "cross_validation_set_X = cross_validation_set[:,0]\r\n",
        "cross_validation_set_X = cross_validation_set_X.astype(int)\r\n",
        "cross_validation_set_Y = cross_validation_set[:,1:]\r\n",
        "\r\n",
        "testing_set_X = testing_set[:,0]\r\n",
        "testing_set_X = testing_set_X.astype(int)\r\n",
        "testing_set_Y = testing_set[:,1:]"
      ],
      "execution_count": 1115,
      "outputs": []
    },
    {
      "cell_type": "code",
      "metadata": {
        "id": "1NulDjynO2vB"
      },
      "source": [
        "training_set_X = np.reshape(training_set_X,newshape=(training_set_X.size,1))"
      ],
      "execution_count": 1116,
      "outputs": []
    },
    {
      "cell_type": "markdown",
      "metadata": {
        "id": "Kk3-tlNypT0v"
      },
      "source": [
        "**NEURAL NETWORK MODEL AND ITS ARCHITECTURE**\r\n",
        "\r\n",
        "\r\n",
        "due to overfiting we used following features and hyperameters:\r\n",
        "1.   L2 regualarization\r\n",
        "2.   Batch normalization layer\r\n",
        "3.   Drop Out layer \r\n",
        "\r\n"
      ]
    },
    {
      "cell_type": "code",
      "metadata": {
        "id": "L1r5TcBUO2nP"
      },
      "source": [
        "model = Sequential([\r\n",
        "    Dense(16, input_shape=(1,) ,activation='relu',kernel_regularizer='l2'),\r\n",
        "    tf.keras.layers.BatchNormalization(),\r\n",
        "    tf.keras.layers.Dropout(0.4),\r\n",
        "    Dense(2),\r\n",
        "])"
      ],
      "execution_count": 1117,
      "outputs": []
    },
    {
      "cell_type": "code",
      "metadata": {
        "colab": {
          "base_uri": "https://localhost:8080/"
        },
        "id": "cvu8BI_ei8jp",
        "outputId": "687cb334-5bd0-4462-fa00-773c32806776"
      },
      "source": [
        "model.summary()"
      ],
      "execution_count": 1118,
      "outputs": [
        {
          "output_type": "stream",
          "text": [
            "Model: \"sequential_122\"\n",
            "_________________________________________________________________\n",
            "Layer (type)                 Output Shape              Param #   \n",
            "=================================================================\n",
            "dense_364 (Dense)            (None, 16)                32        \n",
            "_________________________________________________________________\n",
            "batch_normalization_26 (Batc (None, 16)                64        \n",
            "_________________________________________________________________\n",
            "dropout_15 (Dropout)         (None, 16)                0         \n",
            "_________________________________________________________________\n",
            "dense_365 (Dense)            (None, 2)                 34        \n",
            "=================================================================\n",
            "Total params: 130\n",
            "Trainable params: 98\n",
            "Non-trainable params: 32\n",
            "_________________________________________________________________\n"
          ],
          "name": "stdout"
        }
      ]
    },
    {
      "cell_type": "code",
      "metadata": {
        "id": "qC2QHtFUZgL0"
      },
      "source": [
        "model.compile(optimizer='adam',\r\n",
        "              loss='mse',\r\n",
        "              metrics=['accuracy'])"
      ],
      "execution_count": 1119,
      "outputs": []
    },
    {
      "cell_type": "markdown",
      "metadata": {
        "id": "UHA-PJvmp5zS"
      },
      "source": [
        "**TRAINING PROCESS:** 5 epochs were used"
      ]
    },
    {
      "cell_type": "code",
      "metadata": {
        "colab": {
          "base_uri": "https://localhost:8080/"
        },
        "id": "FnfQqxEAZniB",
        "outputId": "bfedbbf8-43c0-41df-80dc-02630056ca8b"
      },
      "source": [
        "hist = model.fit(training_set_X, training_set_Y,\r\n",
        "          batch_size=32, epochs=5,\r\n",
        "          validation_data=(cross_validation_set_X, cross_validation_set_Y))"
      ],
      "execution_count": 1120,
      "outputs": [
        {
          "output_type": "stream",
          "text": [
            "Epoch 1/5\n",
            "219/219 [==============================] - 1s 2ms/step - loss: 811.4881 - accuracy: 0.5703 - val_loss: 785.5667 - val_accuracy: 0.6120\n",
            "Epoch 2/5\n",
            "219/219 [==============================] - 0s 1ms/step - loss: 674.7994 - accuracy: 0.6676 - val_loss: 666.7187 - val_accuracy: 0.6930\n",
            "Epoch 3/5\n",
            "219/219 [==============================] - 0s 1ms/step - loss: 478.6114 - accuracy: 0.7525 - val_loss: 429.0425 - val_accuracy: 0.7930\n",
            "Epoch 4/5\n",
            "219/219 [==============================] - 0s 1ms/step - loss: 278.5420 - accuracy: 0.7830 - val_loss: 304.3702 - val_accuracy: 0.8600\n",
            "Epoch 5/5\n",
            "219/219 [==============================] - 0s 1ms/step - loss: 146.1394 - accuracy: 0.8357 - val_loss: 207.2472 - val_accuracy: 0.9780\n"
          ],
          "name": "stdout"
        }
      ]
    },
    {
      "cell_type": "code",
      "metadata": {
        "colab": {
          "base_uri": "https://localhost:8080/"
        },
        "id": "GhJJH3aaeNQ5",
        "outputId": "61d8bf21-c4df-4fcb-b3aa-7b8e12f53e77"
      },
      "source": [
        "print(model.metrics_names)"
      ],
      "execution_count": 1121,
      "outputs": [
        {
          "output_type": "stream",
          "text": [
            "['loss', 'accuracy']\n"
          ],
          "name": "stdout"
        }
      ]
    },
    {
      "cell_type": "markdown",
      "metadata": {
        "id": "6Kj1hlAlqLgZ"
      },
      "source": [
        "**ACURACCY WHEN TEST SET IS USED:**"
      ]
    },
    {
      "cell_type": "code",
      "metadata": {
        "colab": {
          "base_uri": "https://localhost:8080/"
        },
        "id": "07PxWZ8-Z7ov",
        "outputId": "a611fced-d543-4f20-d613-db7613ce3c96"
      },
      "source": [
        "outputs = model.evaluate(testing_set_X, testing_set_Y)\r\n",
        "print(outputs)"
      ],
      "execution_count": 1126,
      "outputs": [
        {
          "output_type": "stream",
          "text": [
            "63/63 [==============================] - 0s 966us/step - loss: 198.3798 - accuracy: 0.9820\n",
            "[198.3797607421875, 0.9819999933242798]\n"
          ],
          "name": "stdout"
        }
      ]
    },
    {
      "cell_type": "markdown",
      "metadata": {
        "id": "tBHOWJy9qRt9"
      },
      "source": [
        "**IS THE MODEL OVERFITING:**\r\n",
        "the following plot were we ploted cross validation loss function against training loss function shows that overfiting didn't occur "
      ]
    },
    {
      "cell_type": "code",
      "metadata": {
        "colab": {
          "base_uri": "https://localhost:8080/",
          "height": 295
        },
        "id": "zuKR28S8GEMC",
        "outputId": "7b6e1608-5293-4444-83f3-facbc8ea1b24"
      },
      "source": [
        "plt.plot(hist.history['loss'], label = 'loss')\r\n",
        "plt.plot(hist.history['val_loss'], label='val loss')\r\n",
        "plt.title('Loss vs Val_Loss')\r\n",
        "plt.xlabel('Epochs')\r\n",
        "plt.ylabel('Loss')\r\n",
        "plt.legend()\r\n",
        "plt.show()"
      ],
      "execution_count": 1123,
      "outputs": [
        {
          "output_type": "display_data",
          "data": {
            "image/png": "[encoded data removed]",
            "text/plain": [
              "<Figure size 432x288 with 1 Axes>"
            ]
          },
          "metadata": {
            "tags": [],
            "needs_background": "light"
          }
        }
      ]
    },
    {
      "cell_type": "markdown",
      "metadata": {
        "id": "ckxvUTxtq9_E"
      },
      "source": [
        "**Predicting run time and memory usage of a random array size**"
      ]
    },
    {
      "cell_type": "code",
      "metadata": {
        "colab": {
          "base_uri": "https://localhost:8080/"
        },
        "id": "TxwStKndyqRv",
        "outputId": "173908b1-741c-431d-8cbe-296b4e4b228d"
      },
      "source": [
        "newX = np.array([2000000])\r\n",
        "yhat = model.predict(newX)\r\n",
        "print(yhat)"
      ],
      "execution_count": 1136,
      "outputs": [
        {
          "output_type": "stream",
          "text": [
            "[[0.14908302 7.70008   ]]\n"
          ],
          "name": "stdout"
        }
      ]
    }
  ]
}